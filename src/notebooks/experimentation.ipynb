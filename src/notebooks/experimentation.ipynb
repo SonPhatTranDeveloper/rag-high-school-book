{
 "cells": [
  {
   "cell_type": "code",
   "execution_count": 30,
   "metadata": {},
   "outputs": [],
   "source": [
    "import sys\n",
    "\n",
    "sys.path.append(\"/Users/user/Desktop/Python/rag-book-prod\")"
   ]
  },
  {
   "cell_type": "code",
   "execution_count": 31,
   "metadata": {},
   "outputs": [],
   "source": [
    "from src.main import agent"
   ]
  },
  {
   "cell_type": "code",
   "execution_count": 32,
   "metadata": {},
   "outputs": [],
   "source": [
    "# Get response\n",
    "response = await agent.run(\"Bình Ngô Đại Cáo ai viết?\")"
   ]
  },
  {
   "cell_type": "code",
   "execution_count": 35,
   "metadata": {},
   "outputs": [
    {
     "name": "stdout",
     "output_type": "stream",
     "text": [
      "Found 5 source nodes:\n",
      "\n",
      "Node 1:\n",
      "Score: 0.8599\n",
      "File: {'file_path': '/Users/user/Desktop/Python/rag-book-prod/data/pages/grade_10_canh_dieu_ngu_van_2/grade_10_canh_dieu_ngu_van_2_page_12.md', 'file_name': 'grade_10_canh_dieu_ngu_van_2_page_12.md', 'file_type': 'text/markdown', 'file_size': 2484, 'creation_date': '2025-07-17', 'last_modified_date': '2025-07-17'}\n",
      "Content preview: - Hoàn cảnh ra đời của tác phẩm Đại cáo bình Ngô:\n",
      "Cuối tháng 12 năm Đinh Mùi 1427, sau khi chiến tranh kết thúc, Lê Lợi giao cho Nguyễn Trãi viết Đại cáo, trịnh trọng tuyên bố trước toàn dân: cuộc khá...\n",
      "\n",
      "Node 2:\n",
      "Score: 0.8555\n",
      "File: {'file_path': '/Users/user/Desktop/Python/rag-book-prod/data/pages/grade_10_chan_troi_sang_tao_ngu_van_2/grade_10_chan_troi_sang_tao_ngu_van_2_page_34.md', 'file_name': 'grade_10_chan_troi_sang_tao_ngu_van_2_page_34.md', 'file_type': 'text/markdown', 'file_size': 1875, 'creation_date': '2025-07-17', 'last_modified_date': '2025-07-17'}\n",
      "Content preview: VĂN BẢN 1\n",
      "\n",
      "BÌNH NGÔ ĐẠI CÁO\n",
      "Nguyễn Trãi\n",
      "\n",
      "Cáo là một thể văn chính luận cổ vừa có chức năng thông báo vừa có chức năng nghị luận về một vấn đề trọng đại liên quan đến đất nước, dân tộc. Cáo thường được...\n",
      "\n",
      "Node 3:\n",
      "Score: 0.8534\n",
      "File: {'file_path': '/Users/user/Desktop/Python/rag-book-prod/data/pages/grade_10_canh_dieu_ngu_van_2/grade_10_canh_dieu_ngu_van_2_page_19.md', 'file_name': 'grade_10_canh_dieu_ngu_van_2_page_19.md', 'file_type': 'text/markdown', 'file_size': 2017, 'creation_date': '2025-07-17', 'last_modified_date': '2025-07-17'}\n",
      "Content preview: 1. Tìm hiểu bài Đại cáo bình Ngô theo yêu cầu:\n",
      "\n",
      "a) Tóm tắt nội dung cơ bản của từng phần theo mẫu sau:\n",
      "\n",
      "Phần 1: Nêu tư tưởng nhân nghĩa, khẳng định độc lập dân tộc và những bằng chứng làm sáng tỏ cho ...\n",
      "\n",
      "Node 4:\n",
      "Score: 0.8521\n",
      "File: {'file_path': '/Users/user/Desktop/Python/rag-book-prod/data/pages/grade_10_ket_noi_tri_thuc_ngu_van_2/grade_10_ket_noi_tri_thuc_ngu_van_2_page_22.md', 'file_name': 'grade_10_ket_noi_tri_thuc_ngu_van_2_page_22.md', 'file_type': 'text/markdown', 'file_size': 2938, 'creation_date': '2025-07-17', 'last_modified_date': '2025-07-17'}\n",
      "Content preview: biện luận sâu xa... Sự kết hợp nhuần nhuyễn nhiều bút pháp – phong cách ngôn ngữ như chính luận, tự sự, biểu cảm, sự hòa quyện giữa tính chân thực lịch sử với chất sử thi anh hùng ca,... đã làm nên tí...\n",
      "\n",
      "Node 5:\n",
      "Score: 0.8477\n",
      "File: {'file_path': '/Users/user/Desktop/Python/rag-book-prod/data/pages/grade_11_ket_noi_tri_thuc_ngu_van_2/grade_11_ket_noi_tri_thuc_ngu_van_2_page_106.md', 'file_name': 'grade_11_ket_noi_tri_thuc_ngu_van_2_page_106.md', 'file_type': 'text/markdown', 'file_size': 4688, 'creation_date': '2025-07-17', 'last_modified_date': '2025-07-17'}\n",
      "Content preview: thương dân nhiệt thành; một tấm gương đạo đức hiếu nghĩa sáng ngời; một tài năng văn chương độc đáo; một nhà giáo tận tụy công hiến;... Nguyễn Đình Chiểu để lại một sự nghiệp sáng tác đa dạng, với nhi...\n"
     ]
    },
    {
     "data": {
      "text/plain": [
       "[NodeWithScore(node=TextNode(id_='234bfcc4-1338-4840-912b-23d7a40bd6f2', embedding=None, metadata={'file_path': '/Users/user/Desktop/Python/rag-book-prod/data/pages/grade_10_canh_dieu_ngu_van_2/grade_10_canh_dieu_ngu_van_2_page_12.md', 'file_name': 'grade_10_canh_dieu_ngu_van_2_page_12.md', 'file_type': 'text/markdown', 'file_size': 2484, 'creation_date': '2025-07-17', 'last_modified_date': '2025-07-17'}, excluded_embed_metadata_keys=['file_name', 'file_type', 'file_size', 'creation_date', 'last_modified_date', 'last_accessed_date'], excluded_llm_metadata_keys=['file_name', 'file_type', 'file_size', 'creation_date', 'last_modified_date', 'last_accessed_date'], relationships={<NodeRelationship.SOURCE: '1'>: RelatedNodeInfo(node_id='b70cd5d4-3e95-4510-9a09-3f68f52bf85b', node_type='4', metadata={'file_path': '/Users/user/Desktop/Python/rag-book-prod/data/pages/grade_10_canh_dieu_ngu_van_2/grade_10_canh_dieu_ngu_van_2_page_12.md', 'file_name': 'grade_10_canh_dieu_ngu_van_2_page_12.md', 'file_type': 'text/markdown', 'file_size': 2484, 'creation_date': '2025-07-17', 'last_modified_date': '2025-07-17'}, hash='9f26a19deea02805f84f8db7066fd84306f538a4522d45815ab55b0908cd7328')}, metadata_template='{key}: {value}', metadata_separator='\\n', text='- Hoàn cảnh ra đời của tác phẩm Đại cáo bình Ngô:\\nCuối tháng 12 năm Đinh Mùi 1427, sau khi chiến tranh kết thúc, Lê Lợi giao cho Nguyễn Trãi viết Đại cáo, trịnh trọng tuyên bố trước toàn dân: cuộc kháng chiến của nhân dân Đại Việt chống quân Minh xâm lược đã toàn thắng, khẳng định chủ quyền độc lập của nước Đại Việt.\\n\\nBài Đại cáo được viết bằng văn biền ngẫu, bố cục gồm bốn phần.\\n\\n2. Đọc hiểu\\n\\n[Hình ảnh: Hai trang đầu bài Đại cáo bình Ngô trong Đại Việt sử kí toàn thư. Hình ảnh chứa văn bản chữ Hán cổ.]\\n\\nHai trang đầu bài Đại cáo bình Ngô\\ntrong Đại Việt sử kí toàn thư(*)\\n\\n(*)\"Việc nhân nghĩa cốt ở yên dân,\\nQuân điếu phạt trước lo trừ bạo.\\nNhư nước Đại Việt ta từ trước,\\nVốn xưng nền văn hiến(1) đã lâu.\\nNúi sông bờ cõi đã chia,\\nPhong tục Bắc Nam cũng khác.\\nTừ Triệu(2), Đinh, Lý, Trần bao đời gây nên độc lập,\\nCùng Hán, Đường, Tống, Nguyên mỗi bên xưng đế\\nmột phương.\\nTuy mạnh yếu từng lúc khác nhau,\\nSong hào kiệt đời nào cũng có.\\nVì vậy:\\n\\nChỉ ra ý chính của đoạn văn và tác dụng của nghệ thuật đối trong các câu văn biền ngẫu.\\n\\nNhững tư tưởng, sự việc khách quan nào được khẳng định làm căn cứ triển khai toàn bộ nội dung bài Đại cáo?\\n\\n(*) Văn bản này không có câu: \"Từng nghe\" hay \"Thay trời hành đạo, Hoàng thượng phán rằng\" như trong một số văn bản xuất hiện về sau.\\n(**) Ở các văn bản, để học sinh tiện theo dõi, người biên soạn sách thường đánh số thứ tự dòng thơ hoặc chia phân các văn bản.\\n(1) Văn hiến: nước có truyền thống văn hoá, văn minh và hiền tài thì gọi là nước văn hiến (văn: theo quan niệm thời Nguyễn Trãi dùng để chỉ ngôn ngữ, văn tự, thư tịch, văn chương, giáo dục khoa cử, điển chương, phong tục,...; hiến: chỉ người hiền tài).\\n(2) Theo quan niệm của một số sử gia thời trung đại (như nhóm Ngô Sĩ Liên trong Đại Việt sử kí toàn thư) thì thời kì nhà Triệu cai trị nước ta (từ 207 đến 137 trước Công nguyên) cũng được coi là một triều đại của Đại Việt.', mimetype='text/plain', start_char_idx=0, end_char_idx=1882, metadata_seperator='\\n', text_template='{metadata_str}\\n\\n{content}'), score=0.859925932141849),\n",
       " NodeWithScore(node=TextNode(id_='d57f4932-53eb-4707-8d88-708ce3042a13', embedding=None, metadata={'file_path': '/Users/user/Desktop/Python/rag-book-prod/data/pages/grade_10_chan_troi_sang_tao_ngu_van_2/grade_10_chan_troi_sang_tao_ngu_van_2_page_34.md', 'file_name': 'grade_10_chan_troi_sang_tao_ngu_van_2_page_34.md', 'file_type': 'text/markdown', 'file_size': 1875, 'creation_date': '2025-07-17', 'last_modified_date': '2025-07-17'}, excluded_embed_metadata_keys=['file_name', 'file_type', 'file_size', 'creation_date', 'last_modified_date', 'last_accessed_date'], excluded_llm_metadata_keys=['file_name', 'file_type', 'file_size', 'creation_date', 'last_modified_date', 'last_accessed_date'], relationships={<NodeRelationship.SOURCE: '1'>: RelatedNodeInfo(node_id='0fa20fc1-aff5-4ec7-8f84-585acbc134ea', node_type='4', metadata={'file_path': '/Users/user/Desktop/Python/rag-book-prod/data/pages/grade_10_chan_troi_sang_tao_ngu_van_2/grade_10_chan_troi_sang_tao_ngu_van_2_page_34.md', 'file_name': 'grade_10_chan_troi_sang_tao_ngu_van_2_page_34.md', 'file_type': 'text/markdown', 'file_size': 1875, 'creation_date': '2025-07-17', 'last_modified_date': '2025-07-17'}, hash='2408203184ee20699832817e34170e8d60362a93cfbb388d5d3669bc0ebad9c0')}, metadata_template='{key}: {value}', metadata_separator='\\n', text='VĂN BẢN 1\\n\\nBÌNH NGÔ ĐẠI CÁO\\nNguyễn Trãi\\n\\nCáo là một thể văn chính luận cổ vừa có chức năng thông báo vừa có chức năng nghị luận về một vấn đề trọng đại liên quan đến đất nước, dân tộc. Cáo thường được viết theo thể văn biền ngẫu, tức văn xuôi có đối, đọc lên nghe nhịp nhàng, hài hoà, tạo mĩ cảm cao.\\n\\nBình Ngô¹ đại cáo là bản tuyên bố trước toàn thể nhân dân về công cuộc kháng chiến chống giặc Minh thắng lợi. Bài cáo được Nguyễn Trãi viết theo lệnh của Lê Lợi, trong đó thể hiện được tâm huyết, ý chí của người lãnh tụ nghĩa quân và cũng là của chính tác giả.\\n\\nTrước khi đọc\\n\\nBạn biết những tác phẩm nào trong văn học Việt Nam gắn với các sự kiện trọng đại, thể hiện sâu sắc tình cảm yêu nước, tự hào dân tộc? Hãy kể tên tác phẩm và tác giả.\\n\\nĐọc văn bản\\n\\n[Hình ảnh: Trang đầu tiên của Bình Ngô đại cáo, nguyên bản chữ Hán, được lưu trữ tại một cơ quan chính thức. Văn bản cổ được viết bằng chữ Hán trên giấy màu vàng nhạt, với nhiều dòng chữ nhỏ được sắp xếp theo cột.]\\n\\nHình: Trang đầu tiên của Bình Ngô đại cáo, nguyên bản chữ Hán, lưu tại Cục Văn thư và Lưu trữ Nhà nước\\n(Nguồn: https://vi.wikipedia.org/wiki/Bình_Ngô_đại_cáo)\\n\\n¹ Ngô: Đất Ngô (Trung Hoa) là quê quán của Chu Nguyên Chương, người sáng lập triều đại nhà Minh. Khi khởi nghiệp đánh giặc Nguyên, Chu Nguyên Chương xưng là Ngô quốc công, sau đó xưng là Ngô Vương. \"Bình Ngô\", do đó, có hàm ý đánh đuổi tàn gốc rễ họ Chu - Thái Tổ nhà Minh.\\n\\n33', mimetype='text/plain', start_char_idx=0, end_char_idx=1412, metadata_seperator='\\n', text_template='{metadata_str}\\n\\n{content}'), score=0.855535061752128),\n",
       " NodeWithScore(node=TextNode(id_='c800fe3d-e9be-4ea6-b8ad-e255d293b026', embedding=None, metadata={'file_path': '/Users/user/Desktop/Python/rag-book-prod/data/pages/grade_10_canh_dieu_ngu_van_2/grade_10_canh_dieu_ngu_van_2_page_19.md', 'file_name': 'grade_10_canh_dieu_ngu_van_2_page_19.md', 'file_type': 'text/markdown', 'file_size': 2017, 'creation_date': '2025-07-17', 'last_modified_date': '2025-07-17'}, excluded_embed_metadata_keys=['file_name', 'file_type', 'file_size', 'creation_date', 'last_modified_date', 'last_accessed_date'], excluded_llm_metadata_keys=['file_name', 'file_type', 'file_size', 'creation_date', 'last_modified_date', 'last_accessed_date'], relationships={<NodeRelationship.SOURCE: '1'>: RelatedNodeInfo(node_id='670d09ed-5c52-4280-8d03-56d93a4bae49', node_type='4', metadata={'file_path': '/Users/user/Desktop/Python/rag-book-prod/data/pages/grade_10_canh_dieu_ngu_van_2/grade_10_canh_dieu_ngu_van_2_page_19.md', 'file_name': 'grade_10_canh_dieu_ngu_van_2_page_19.md', 'file_type': 'text/markdown', 'file_size': 2017, 'creation_date': '2025-07-17', 'last_modified_date': '2025-07-17'}, hash='7aa93474871679bc6cd0380ac1f68f9124db7f94fe3fded0e94cbdc758c47960')}, metadata_template='{key}: {value}', metadata_separator='\\n', text='1. Tìm hiểu bài Đại cáo bình Ngô theo yêu cầu:\\n\\na) Tóm tắt nội dung cơ bản của từng phần theo mẫu sau:\\n\\nPhần 1: Nêu tư tưởng nhân nghĩa, khẳng định độc lập dân tộc và những bằng chứng làm sáng tỏ cho điều đó.\\nPhần 2:\\nPhần 3:\\nPhần 4:\\n\\nb) Chỉ ra mối liên hệ giữa các phần trên và cho biết: Bài Đại cáo viết về vấn đề gì?\\n\\n2. Tư tưởng nổi bật được thể hiện xuyên suốt trong Đại cáo bình Ngô là gì? Hãy làm sáng tỏ tư tưởng ấy.\\n\\n3. Chọn một đoạn tiêu biểu trong bài Đại cáo, phân tích để thấy được tác dụng của nghệ thuật lập luận, lựa chọn hình ảnh, ngôn từ, nghệ thuật đối và nhịp điệu của câu văn biền ngẫu.\\n\\n4. Hãy phân tích vai trò của yếu tố biểu cảm trong bài Đại cáo qua các dẫn chứng cụ thể.\\n\\n5. Quan niệm về quốc gia, dân tộc được Nguyễn Trãi thể hiện trong bài Đại cáo như thế nào? Phân tích ý thức độc lập và tinh thần tự hào dân tộc được thể hiện trong quan niệm ấy.\\n\\n6. Liên hệ với những hiểu biết ở phần Kiến thức ngữ văn và văn bản Nguyễn Trãi - Cuộc đời và sự nghiệp, hãy xác định:\\n\\na) Ý nghĩa của tác phẩm Đại cáo bình Ngô đối với thời đại Nguyễn Trãi.\\n\\nb) Vì sao Đại cáo bình Ngô được coi là \"bản Tuyên ngôn Độc lập thứ hai\" của dân tộc?\\n\\n7. Theo em, bài học lịch sử nào được Nguyễn Trãi nêu lên trong Đại cáo bình Ngô vẫn còn có ý nghĩa sâu sắc đối với thời đại ngày nay?\\n\\nThực hành đọc hiểu\\n\\nGƯƠNG BẦU KHUYÊN RĂN (bài 43)\\n(Bảo kính cảnh giới)\\nNGUYỄN TRÃI\\n\\n1. Chuẩn bị\\n\\n- Xem lại phần Kiến thức ngữ văn, vận dụng những hiểu biết về Nguyễn Trãi qua các bài đã học để đọc hiểu văn bản này.', mimetype='text/plain', start_char_idx=0, end_char_idx=1503, metadata_seperator='\\n', text_template='{metadata_str}\\n\\n{content}'), score=0.8534470689870677),\n",
       " NodeWithScore(node=TextNode(id_='a3800204-fbe6-49e6-89ac-ffd14fec7f7a', embedding=None, metadata={'file_path': '/Users/user/Desktop/Python/rag-book-prod/data/pages/grade_10_ket_noi_tri_thuc_ngu_van_2/grade_10_ket_noi_tri_thuc_ngu_van_2_page_22.md', 'file_name': 'grade_10_ket_noi_tri_thuc_ngu_van_2_page_22.md', 'file_type': 'text/markdown', 'file_size': 2938, 'creation_date': '2025-07-17', 'last_modified_date': '2025-07-17'}, excluded_embed_metadata_keys=['file_name', 'file_type', 'file_size', 'creation_date', 'last_modified_date', 'last_accessed_date'], excluded_llm_metadata_keys=['file_name', 'file_type', 'file_size', 'creation_date', 'last_modified_date', 'last_accessed_date'], relationships={<NodeRelationship.SOURCE: '1'>: RelatedNodeInfo(node_id='d2094ca7-a632-4a2a-b842-0a532b768dc1', node_type='4', metadata={'file_path': '/Users/user/Desktop/Python/rag-book-prod/data/pages/grade_10_ket_noi_tri_thuc_ngu_van_2/grade_10_ket_noi_tri_thuc_ngu_van_2_page_22.md', 'file_name': 'grade_10_ket_noi_tri_thuc_ngu_van_2_page_22.md', 'file_type': 'text/markdown', 'file_size': 2938, 'creation_date': '2025-07-17', 'last_modified_date': '2025-07-17'}, hash='cfd66bdb6ca03ad6899469ed0a50a596e12dac98cae9b9785e88a995563658ba'), <NodeRelationship.NEXT: '3'>: RelatedNodeInfo(node_id='0582108c-3cb3-4224-8bc4-b856e5153d63', node_type='1', metadata={}, hash='f9366ab9c9f380d78e033e676a0088ce2b4dcfe8ef61d96d94927a182b5a2969')}, metadata_template='{key}: {value}', metadata_separator='\\n', text='biện luận sâu xa... Sự kết hợp nhuần nhuyễn nhiều bút pháp – phong cách ngôn ngữ như chính luận, tự sự, biểu cảm, sự hòa quyện giữa tính chân thực lịch sử với chất sử thi anh hùng ca,... đã làm nên tính hấp dẫn vượt thời đại của tác phẩm.\\n\\nBình Ngô đại cáo được viết theo thể biền văn, theo kiểu văn tứ lục biền cách (thể văn tứ lục: dùng các câu ngắt quãng 4/6 chữ để nối nhau; văn tứ lục có thể biến cách thành các kiểu đối 4/4 – 4/4 hoặc 6/6 – 6/6;...). Tác phẩm được viết với bút pháp đa dạng, sử dụng nhiều biện pháp tu từ, ngôn ngữ giàu hình ảnh, có tính biểu cảm cao. Vì vậy, Bình Ngô đại cáo không chỉ ảnh hưởng sâu xa đến tư tưởng, ý thức mà còn tác động mạnh mẽ đến tình cảm, cảm xúc của người tiếp nhận.\\n\\nVăn bản Bình Ngô đại cáo được truyền chép trong nhiều tư liệu. Tuy giữa các bản chép có những sai biệt nhất định về câu chữ, nhưng tinh thần thực, sự trọn vẹn về nội dung của văn bản vẫn được thể hiện rõ.\\n\\nTrả lời câu hỏi\\n\\n1. Căn cứ vào nội dung bài học và hiểu biết của mình, hãy cho biết: tư cách phát ngôn của Nguyễn Trãi khi viết Bình Ngô đại cáo, sự kiện lịch sử được tái hiện và bàn luận trong tác phẩm, mục đích viết và đối tượng tác động của bài cáo.\\n\\n2. Xác định luận đề của văn bản và nêu lí do vì sao bạn xác định như vậy.\\n\\n3. Theo bạn, trong đoạn 1 của văn bản, câu văn nào thể hiện rõ nhất mục đích của việc thực thi lí tưởng nhân nghĩa?\\n\\n4. Hãy khái quát nội dung của các đoạn từ 2 đến 5 và cho biết chức năng của mỗi đoạn trong mạch lập luận.\\n\\n5. Nêu nhận xét chung về nghệ thuật lập luận của tác giả trong toàn tác phẩm.\\n\\n6. Hãy chỉ ra yếu tố biểu cảm trong văn bản. Theo bạn, yếu tố này có thể đem lại hiệu quả gì trong việc thuyết phục người đọc, người nghe?\\n\\n7. Bình Ngô đại cáo được đánh giá là một áng hùng văn. Theo bạn, những căn cứ chính của đánh giá đó là gì?\\n\\n8.', mimetype='text/plain', start_char_idx=0, end_char_idx=1804, metadata_seperator='\\n', text_template='{metadata_str}\\n\\n{content}'), score=0.8521383885167846),\n",
       " NodeWithScore(node=TextNode(id_='4be41f5e-bc05-4b9e-b7d7-fe027ca340e2', embedding=None, metadata={'file_path': '/Users/user/Desktop/Python/rag-book-prod/data/pages/grade_11_ket_noi_tri_thuc_ngu_van_2/grade_11_ket_noi_tri_thuc_ngu_van_2_page_106.md', 'file_name': 'grade_11_ket_noi_tri_thuc_ngu_van_2_page_106.md', 'file_type': 'text/markdown', 'file_size': 4688, 'creation_date': '2025-07-17', 'last_modified_date': '2025-07-17'}, excluded_embed_metadata_keys=['file_name', 'file_type', 'file_size', 'creation_date', 'last_modified_date', 'last_accessed_date'], excluded_llm_metadata_keys=['file_name', 'file_type', 'file_size', 'creation_date', 'last_modified_date', 'last_accessed_date'], relationships={<NodeRelationship.SOURCE: '1'>: RelatedNodeInfo(node_id='73562531-26d4-48c7-a9d6-aae34c1fe799', node_type='4', metadata={'file_path': '/Users/user/Desktop/Python/rag-book-prod/data/pages/grade_11_ket_noi_tri_thuc_ngu_van_2/grade_11_ket_noi_tri_thuc_ngu_van_2_page_106.md', 'file_name': 'grade_11_ket_noi_tri_thuc_ngu_van_2_page_106.md', 'file_type': 'text/markdown', 'file_size': 4688, 'creation_date': '2025-07-17', 'last_modified_date': '2025-07-17'}, hash='00db670240323c193c5d3676e51bdf09ccaab81bbb0368dd299d4b75ce2ddee5'), <NodeRelationship.NEXT: '3'>: RelatedNodeInfo(node_id='17a7f7b9-663a-4844-8259-aafc32a759ec', node_type='1', metadata={}, hash='9b967abcd1fb7f160ee4063333ec00eac260c30a35a57a4a1391a0047120adcd')}, metadata_template='{key}: {value}', metadata_separator='\\n', text='thương dân nhiệt thành; một tấm gương đạo đức hiếu nghĩa sáng ngời; một tài năng văn chương độc đáo; một nhà giáo tận tụy công hiến;... Nguyễn Đình Chiểu để lại một sự nghiệp sáng tác đa dạng, với nhiều thành tựu đỉnh cao. Ông hầu như chỉ sáng tác bằng chữ Nôm, với dụng tâm hướng đến quần chúng nhân dân, qua các chủ đề và đề tài gắn liền với đời sống xã hội, các giá trị truyền thống của dân tộc. Các thể loại chính được ông sử dụng là: truyện thơ, thơ Đường luật, văn tế. Nhiều tác phẩm nổi tiếng của ông được truyền tụng rộng rãi như: Lục Vân Tiên, Dương Từ - Hà Mậu, Ngư tiều y thuật vấn đáp, Văn tế nghĩa sĩ trận vong Lục tỉnh,... Thơ văn Nguyễn Đình Chiểu đã thể hiện chân thực cốt cách và tâm hồn con người tác giả. Nguyễn Đình Chiểu được UNESCO vinh danh là Danh nhân văn hoá của nhân loại năm 2021.\\n\\nVăn tế nghĩa sĩ Cần Giuộc là một trong những tác phẩm có vị trí đặc biệt trong sự nghiệp sáng tác của Nguyễn Đình Chiểu và trong lịch sử văn học dân tộc. Sau khi chiếm thành Gia Định (1859), giặc Pháp tiếp tục mở rộng chiến tranh thôn tính ra nhiều vùng lân cận; nhân dân Nam Bộ đã anh dũng tổ chức kháng chiến, nhiều trận đánh lớn đã diễn ra. Đêm 16/12/1861, những nghĩa sĩ nông dân làm lũ, trong tay chỉ có những vũ khí thô sơ, nhưng với tinh thần quả cảm và lòng căm thù giặc ngút trời, đã tổ chức đánh đồn giặc ở Cần Giuộc. Trận đánh tuy được một số thắng lợi, nhưng gần 20 nghĩa sĩ đã anh dũng hi sinh. Sự hi sinh của nghĩa binh trận Cần Giuộc đã để lại niềm xúc động vô cùng lớn lao trong nhân dân. Nguyễn Đình Chiểu đã nhận uỷ thác từ Tuần phủ Gia Định là Đỗ Quang, viết bài văn này để đọc tại lễ truy điệu các chiến sĩ. Bài văn tế ngay sau đó đã được vua Tự Đức ra lệnh cho truyền chép và phổ biến ở nhiều địa phương trong nước; tác phẩm cũng được nhiều văn nhân thi sĩ các đời ca tụng.', mimetype='text/plain', start_char_idx=0, end_char_idx=1804, metadata_seperator='\\n', text_template='{metadata_str}\\n\\n{content}'), score=0.8477231841540785)]"
      ]
     },
     "execution_count": 35,
     "metadata": {},
     "output_type": "execute_result"
    }
   ],
   "source": [
    "# Extract source nodes from the response\n",
    "# The source nodes are in the tool output of the RAG tool call\n",
    "source_nodes = None\n",
    "for tool_call in response.tool_calls:\n",
    "    if tool_call.tool_name == \"rag_book_search_tool\":\n",
    "        source_nodes = tool_call.tool_output.raw_output.source_nodes\n",
    "        break\n",
    "\n",
    "print(f\"Found {len(source_nodes)} source nodes:\")\n",
    "for i, node in enumerate(source_nodes):\n",
    "    print(f\"\\nNode {i + 1}:\")\n",
    "    print(f\"Score: {node.score:.4f}\")\n",
    "    print(f\"File: {node.node.metadata['file_name']}\")\n",
    "    print(f\"Content preview: {node.node.text[:200]}...\")\n",
    "\n",
    "source_nodes"
   ]
  },
  {
   "cell_type": "code",
   "execution_count": null,
   "metadata": {},
   "outputs": [],
   "source": []
  }
 ],
 "metadata": {
  "kernelspec": {
   "display_name": ".venv",
   "language": "python",
   "name": "python3"
  },
  "language_info": {
   "codemirror_mode": {
    "name": "ipython",
    "version": 3
   },
   "file_extension": ".py",
   "mimetype": "text/x-python",
   "name": "python",
   "nbconvert_exporter": "python",
   "pygments_lexer": "ipython3",
   "version": "3.13.3"
  }
 },
 "nbformat": 4,
 "nbformat_minor": 2
}
