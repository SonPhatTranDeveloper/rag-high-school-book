{
 "cells": [
  {
   "cell_type": "code",
   "execution_count": 1,
   "metadata": {},
   "outputs": [],
   "source": [
    "import sys\n",
    "\n",
    "sys.path.append(\"/Users/user/Desktop/Python/rag-book-prod\")"
   ]
  },
  {
   "cell_type": "code",
   "execution_count": 2,
   "metadata": {},
   "outputs": [
    {
     "name": "stdout",
     "output_type": "stream",
     "text": [
      "Loading llama_index.core.storage.kvstore.simple_kvstore from /Users/user/Desktop/Python/rag-book-prod/storage/docstore.json.\n",
      "Loading llama_index.core.storage.kvstore.simple_kvstore from /Users/user/Desktop/Python/rag-book-prod/storage/index_store.json.\n"
     ]
    }
   ],
   "source": [
    "from src.main import agent"
   ]
  },
  {
   "cell_type": "code",
   "execution_count": 11,
   "metadata": {},
   "outputs": [
    {
     "name": "stdout",
     "output_type": "stream",
     "text": [
      "Dựa vào sách giáo khoa, Việt Nam hiện có 63 tỉnh và thành phố trực thuộc Trung ương.\n",
      "\n",
      "Kết luận: Việt Nam có tổng cộng 63 tỉnh, thành phố.\n"
     ]
    }
   ],
   "source": [
    "# Get response\n",
    "response = await agent.run(\"Việt Nam có bao nhiêu tỉnh thành?\")\n",
    "print(response)"
   ]
  },
  {
   "cell_type": "code",
   "execution_count": 12,
   "metadata": {},
   "outputs": [
    {
     "name": "stdout",
     "output_type": "stream",
     "text": [
      "Found 5 source nodes:\n",
      "\n",
      "Node 1:\n",
      "Score: 0.4703\n",
      "File: grade_12_ket_noi_tri_thuc_dia_ly_page_159.md\n",
      "Content preview: Đến năm 2021, bảy tỉnh, thành phố của vùng có diện tích hơn 15 nghìn km², số dân là 17,6 triệu người....\n",
      "\n",
      "Node 2:\n",
      "Score: 0.4197\n",
      "File: grade_12_ket_noi_tri_thuc_dia_ly_page_44.md\n",
      "Content preview: II. MẠNG LƯỚI ĐÔ THỊ VIỆT NAM\n",
      "\n",
      "- Số lượng đô thị tăng khá nhanh\n",
      "Mạng lưới đô thị Việt Nam bao gồm thành phố trực thuộc Trung ương (đơn vị hành chính cấp tỉnh); thành phố trực thuộc tỉnh, thành phố trự...\n",
      "\n",
      "Node 3:\n",
      "Score: 0.4144\n",
      "File: grade_12_chan_troi_sang_tao_dia_ly_page_42.md\n",
      "Content preview: Căn cứ vào cấp quản lí, nước ta có đô thị trực thuộc trung ương, đô thị trực thuộc tỉnh và đô thị trực thuộc cấp huyện. Đến năm 2021, nước ta có 5 đô thị trực thuộc Trung ương là Hà Nội, Hải Phòng, Đà...\n",
      "\n",
      "Node 4:\n",
      "Score: 0.4117\n",
      "File: grade_12_chan_troi_sang_tao_dia_ly_page_34.md\n",
      "Content preview: Hình 7.2. Phân bố dân cư và đô thị Việt Nam, năm 2021\n",
      "\n",
      "Đây là một bản đồ Việt Nam thể hiện phân bố dân cư và đô thị năm 2021. Bản đồ bao gồm các thông tin chính sau:\n",
      "\n",
      "1. Chú giải mật độ dân số:\n",
      "   - T...\n",
      "\n",
      "Node 5:\n",
      "Score: 0.4101\n",
      "File: grade_12_ket_noi_tri_thuc_dia_ly_page_35.md\n",
      "Content preview: Tuy nhiên, hiện nay nước ta có tình trạng mất cân bằng giới tính khi sinh. Trong số trẻ được sinh ra năm 2021, cứ 100 bé gái, tương ứng bình quân có 112 bé trai.\n",
      "\n",
      "- Cơ cấu dân số theo tuổi\n",
      "\n",
      "Do mức sin...\n"
     ]
    },
    {
     "data": {
      "text/plain": [
       "[NodeWithScore(node=TextNode(id_='7368a82e-162d-4d32-9b3f-2d61ffe52ba3', embedding=None, metadata={'grade': 'grade_12', 'book_type': 'ket_noi_tri_thuc', 'book_subject': 'dia_ly', 'page_number': 159, 'file_path': '/Users/user/Desktop/Python/rag-book-prod/data/pages/grade_12_ket_noi_tri_thuc_dia_ly/grade_12_ket_noi_tri_thuc_dia_ly_page_159.md', 'file_name': 'grade_12_ket_noi_tri_thuc_dia_ly_page_159.md'}, excluded_embed_metadata_keys=['file_name', 'file_type', 'file_size', 'creation_date', 'last_modified_date', 'last_accessed_date'], excluded_llm_metadata_keys=['file_name', 'file_type', 'file_size', 'creation_date', 'last_modified_date', 'last_accessed_date'], relationships={<NodeRelationship.SOURCE: '1'>: RelatedNodeInfo(node_id='c558bd29-7147-4d7a-9403-450b8b8f4fac', node_type='4', metadata={'grade': 'grade_12', 'book_type': 'ket_noi_tri_thuc', 'book_subject': 'dia_ly', 'page_number': 159, 'file_path': '/Users/user/Desktop/Python/rag-book-prod/data/pages/grade_12_ket_noi_tri_thuc_dia_ly/grade_12_ket_noi_tri_thuc_dia_ly_page_159.md', 'file_name': 'grade_12_ket_noi_tri_thuc_dia_ly_page_159.md'}, hash='a88988908f9ea816a0aec3d151a394f83e75047da784c5880d1f0c12df1f35ed'), <NodeRelationship.PREVIOUS: '2'>: RelatedNodeInfo(node_id='2ee2217e-3e07-4260-889f-209d15c32adb', node_type='1', metadata={'grade': 'grade_12', 'book_type': 'ket_noi_tri_thuc', 'book_subject': 'dia_ly', 'page_number': 159, 'file_path': '/Users/user/Desktop/Python/rag-book-prod/data/pages/grade_12_ket_noi_tri_thuc_dia_ly/grade_12_ket_noi_tri_thuc_dia_ly_page_159.md', 'file_name': 'grade_12_ket_noi_tri_thuc_dia_ly_page_159.md'}, hash='af9fdd97c958596529b3dd24e671f5d46639d1147b27326fd41f1ba02bcbe7fe')}, metadata_template='{key}: {value}', metadata_separator='\\n', text='Đến năm 2021, bảy tỉnh, thành phố của vùng có diện tích hơn 15 nghìn km², số dân là 17,6 triệu người.', mimetype='text/plain', start_char_idx=1817, end_char_idx=1918, metadata_seperator='\\n', text_template='{metadata_str}\\n\\n{content}'), score=0.4702582058885932),\n",
       " NodeWithScore(node=TextNode(id_='ed31f82e-e613-4998-a889-9a399c131716', embedding=None, metadata={'grade': 'grade_12', 'book_type': 'ket_noi_tri_thuc', 'book_subject': 'dia_ly', 'page_number': 44, 'file_path': '/Users/user/Desktop/Python/rag-book-prod/data/pages/grade_12_ket_noi_tri_thuc_dia_ly/grade_12_ket_noi_tri_thuc_dia_ly_page_44.md', 'file_name': 'grade_12_ket_noi_tri_thuc_dia_ly_page_44.md'}, excluded_embed_metadata_keys=['file_name', 'file_type', 'file_size', 'creation_date', 'last_modified_date', 'last_accessed_date'], excluded_llm_metadata_keys=['file_name', 'file_type', 'file_size', 'creation_date', 'last_modified_date', 'last_accessed_date'], relationships={<NodeRelationship.SOURCE: '1'>: RelatedNodeInfo(node_id='ff1c48d1-54a6-4d5c-88cd-c80a50846c5b', node_type='4', metadata={'grade': 'grade_12', 'book_type': 'ket_noi_tri_thuc', 'book_subject': 'dia_ly', 'page_number': 44, 'file_path': '/Users/user/Desktop/Python/rag-book-prod/data/pages/grade_12_ket_noi_tri_thuc_dia_ly/grade_12_ket_noi_tri_thuc_dia_ly_page_44.md', 'file_name': 'grade_12_ket_noi_tri_thuc_dia_ly_page_44.md'}, hash='c23c552f208feb2bbb88b985ac82a92d99b1ac4b4ad2b5e3b5f77141a01df699'), <NodeRelationship.NEXT: '3'>: RelatedNodeInfo(node_id='cd780f31-64cf-4622-b036-f8ba8307f247', node_type='1', metadata={}, hash='33df3262ef4fe4f310bde25bad7b96d05e4fa3052e45b19664241bcbe9746ae9')}, metadata_template='{key}: {value}', metadata_separator='\\n', text='II. MẠNG LƯỚI ĐÔ THỊ VIỆT NAM\\n\\n- Số lượng đô thị tăng khá nhanh\\nMạng lưới đô thị Việt Nam bao gồm thành phố trực thuộc Trung ương (đơn vị hành chính cấp tỉnh); thành phố trực thuộc tỉnh, thành phố trực thuộc thành phố và thị xã (đơn vị hành chính cấp huyện); thị trấn (đơn vị hành chính cấp xã). Bước sang thế kỉ XXI, tổng số đô thị tăng khá nhanh, trong đó số lượng thành phố tăng nhanh nhất.\\n\\nBảng 8.2. SỐ LƯỢNG ĐÔ THỊ VIỆT NAM GIAI ĐOẠN 2001 - 2021\\n\\nNăm | Thành phố | Thị xã | Thị trấn | Tổng số\\n-----|------------|--------|----------|--------\\n2001 | 25         | 62     | 565      | 652\\n2011 | 61         | 48     | 623      | 732\\n2021 | 87         | 50     | 612      | 749\\n\\n(Nguồn: Niên giám thống kê các năm 2002, 2012, 2022)\\n\\n- Phân loại đô thị: Dựa trên các tiêu chí về vị trí, chức năng, vai trò; quy mô và mật độ dân số; tỉ lệ lao động phi nông nghiệp; trình độ phát triển cơ sở hạ tầng và kiến trúc, cảnh quan, đô thị nước ta được phân thành 6 loại: Loại đặc biệt, loại I, loại II, loại III, loại IV và loại V được cơ quan nhà nước có thẩm quyền quyết định công nhận. Hà Nội và Thành phố Hồ Chí Minh là hai đô thị đặc biệt của Việt Nam.\\n\\nVề phương diện quản lí, cấp Trung ương quản lí Hà Nội, Thành phố Hồ Chí Minh, Hải Phòng, Đà Nẵng, Cần Thơ. Cấp tỉnh quản lí các thành phố trực thuộc tỉnh (đô thị loại I, loại II, loại III) và thị xã (đô thị loại III, loại IV). Cấp huyện quản lí các thị trấn (đô thị loại IV, loại V).\\n\\n- Mạng lưới đô thị phủ khắp các vùng nhưng có sự khác nhau giữa các vùng\\n\\nBảng 8.3.', mimetype='text/plain', start_char_idx=0, end_char_idx=1518, metadata_seperator='\\n', text_template='{metadata_str}\\n\\n{content}'), score=0.41971132993345156),\n",
       " NodeWithScore(node=TextNode(id_='c0c47c10-5bb9-4445-9aa4-4d6a71f2cc38', embedding=None, metadata={'grade': 'grade_12', 'book_type': 'chan_troi_sang_tao', 'book_subject': 'dia_ly', 'page_number': 42, 'file_path': '/Users/user/Desktop/Python/rag-book-prod/data/pages/grade_12_chan_troi_sang_tao_dia_ly/grade_12_chan_troi_sang_tao_dia_ly_page_42.md', 'file_name': 'grade_12_chan_troi_sang_tao_dia_ly_page_42.md'}, excluded_embed_metadata_keys=['file_name', 'file_type', 'file_size', 'creation_date', 'last_modified_date', 'last_accessed_date'], excluded_llm_metadata_keys=['file_name', 'file_type', 'file_size', 'creation_date', 'last_modified_date', 'last_accessed_date'], relationships={<NodeRelationship.SOURCE: '1'>: RelatedNodeInfo(node_id='d4644e75-0322-4700-ae39-fa438529da0b', node_type='4', metadata={'grade': 'grade_12', 'book_type': 'chan_troi_sang_tao', 'book_subject': 'dia_ly', 'page_number': 42, 'file_path': '/Users/user/Desktop/Python/rag-book-prod/data/pages/grade_12_chan_troi_sang_tao_dia_ly/grade_12_chan_troi_sang_tao_dia_ly_page_42.md', 'file_name': 'grade_12_chan_troi_sang_tao_dia_ly_page_42.md'}, hash='3a0aa4dd6f3b5aa4625a2456253d503e1b2ddf3f566e4611dcfba272e9228151'), <NodeRelationship.NEXT: '3'>: RelatedNodeInfo(node_id='20aaef32-4b8d-4a96-b669-49c1a4052e1f', node_type='1', metadata={}, hash='15ba7c8bed73e4d1af9e2880c7e33433ce1da610f130e1276abfb63572fc6df5')}, metadata_template='{key}: {value}', metadata_separator='\\n', text='Căn cứ vào cấp quản lí, nước ta có đô thị trực thuộc trung ương, đô thị trực thuộc tỉnh và đô thị trực thuộc cấp huyện. Đến năm 2021, nước ta có 5 đô thị trực thuộc Trung ương là Hà Nội, Hải Phòng, Đà Nẵng, Thành phố Hồ Chí Minh và Cần Thơ.\\n\\nÔ cửa tri thức:\\nCác tiêu chí để phân loại đô thị ở nước ta\\n1. Vị trí, chức năng, vai trò, cơ cấu và trình độ phát triển kinh tế - xã hội.\\n2. Quy mô dân số toàn đô thị.\\n3. Mật độ dân số toàn đô thị.\\n4. Tỉ lệ lao động phi nông nghiệp toàn đô thị.\\n5. Trình độ phát triển cơ sở hạ tầng và kiến trúc, cảnh quan đô thị.\\n(Nguồn: Nghị quyết số 26/2022/UBTVQH15 ngày 21 tháng 9 năm 2022)\\n\\nIII. ẢNH HƯỞNG CỦA ĐÔ THỊ HOÁ ĐẾN PHÁT TRIỂN KINH TẾ - XÃ HỘI\\n\\nDựa vào thông tin trong bài, hãy phân tích những ảnh hưởng tích cực và hạn chế của đô thị hoá đến phát triển kinh tế - xã hội nước ta.\\n\\nĐối với kinh tế: đô thị hoá góp phần thúc đẩy tốc độ tăng trưởng kinh tế, chuyển dịch cơ cấu lao động và cơ cấu kinh tế. Các đô thị đóng góp lớn vào GDP của vùng, hình thành các cực tăng trưởng kinh tế, thu hút các nguồn lực để thúc đẩy phát triển kinh tế - xã hội.\\n\\nĐối với xã hội: đô thị góp phần quan trọng giải quyết việc làm, làm gia tăng phúc lợi xã hội, thu hút lao động từ khu vực nông thôn đến làm việc và sinh sống. Các đô thị tạo điều kiện thuận lợi để phát triển khoa học - công nghệ; là nơi sử dụng đông đảo lực lượng lao động có trình độ chuyên môn kĩ thuật.\\n\\nHạn chế: bên cạnh tác động tích cực, đô thị hoá cũng tạo sức ép về cơ sở hạ tầng, giải quyết việc làm, giáo dục, nhà ở,... Các vấn đề về mỹ quan đô thị, ô nhiễm môi trường, ùn tắc giao thông,... đang là thách thức cho quá trình đô thị hoá nước ta.\\n\\nLUYỆN TẬP\\n\\n1. Dựa vào hình 7.2, kể tên các đô thị loại đặc biệt và đô thị loại I ở nước ta.\\n\\n2.', mimetype='text/plain', start_char_idx=0, end_char_idx=1739, metadata_seperator='\\n', text_template='{metadata_str}\\n\\n{content}'), score=0.41438912460975663),\n",
       " NodeWithScore(node=TextNode(id_='9ca106b8-af03-4c79-b4a4-81f72f9852ee', embedding=None, metadata={'grade': 'grade_12', 'book_type': 'chan_troi_sang_tao', 'book_subject': 'dia_ly', 'page_number': 34, 'file_path': '/Users/user/Desktop/Python/rag-book-prod/data/pages/grade_12_chan_troi_sang_tao_dia_ly/grade_12_chan_troi_sang_tao_dia_ly_page_34.md', 'file_name': 'grade_12_chan_troi_sang_tao_dia_ly_page_34.md'}, excluded_embed_metadata_keys=['file_name', 'file_type', 'file_size', 'creation_date', 'last_modified_date', 'last_accessed_date'], excluded_llm_metadata_keys=['file_name', 'file_type', 'file_size', 'creation_date', 'last_modified_date', 'last_accessed_date'], relationships={<NodeRelationship.SOURCE: '1'>: RelatedNodeInfo(node_id='d893fd53-aab2-4bc4-81b4-c20a60488c1e', node_type='4', metadata={'grade': 'grade_12', 'book_type': 'chan_troi_sang_tao', 'book_subject': 'dia_ly', 'page_number': 34, 'file_path': '/Users/user/Desktop/Python/rag-book-prod/data/pages/grade_12_chan_troi_sang_tao_dia_ly/grade_12_chan_troi_sang_tao_dia_ly_page_34.md', 'file_name': 'grade_12_chan_troi_sang_tao_dia_ly_page_34.md'}, hash='7e03561c7e30e9247d846ce90888467e28f92f06d5f0148dcd0ec0fbeaad46ac')}, metadata_template='{key}: {value}', metadata_separator='\\n', text='Hình 7.2. Phân bố dân cư và đô thị Việt Nam, năm 2021\\n\\nĐây là một bản đồ Việt Nam thể hiện phân bố dân cư và đô thị năm 2021. Bản đồ bao gồm các thông tin chính sau:\\n\\n1. Chú giải mật độ dân số:\\n   - Trên 2.000 người/km²\\n   - Từ 1.001 - 2.000 người/km²\\n   - Từ 501 - 1.000 người/km²\\n   - Từ 201 - 500 người/km²\\n   - Từ 100 - 200 người/km²\\n   - Dưới 100 người/km²\\n\\n2. Phân loại đô thị:\\n   - Đô thị loại đặc biệt\\n   - Đô thị loại I\\n   - Đô thị loại II\\n\\n3. Các ký hiệu khác:\\n   - Sông\\n   - Hồ\\n   - Đảo\\n   - Quần đảo\\n   - Đường biên giới quốc gia\\n   - Đường biên giới hành chính cấp tỉnh\\n\\n4. Danh sách 14 tỉnh được đánh số trên bản đồ:\\n   1. Vĩnh Phúc\\n   2. Bắc Ninh\\n   3. Hải Dương\\n   4. Hưng Yên\\n   5. Thái Bình\\n   6. Nam Định\\n   7. Hà Nam\\n   8. Ninh Bình\\n   9. Đồng Tháp\\n   10. Tiền Giang\\n   11. Vĩnh Long\\n   12. An Giang\\n   13. Hậu Giang\\n   14. Bạc Liêu\\n\\n5. Bản đồ chính:\\n   - Thể hiện toàn bộ lãnh thổ Việt Nam từ Bắc đến Nam\\n   - Hiển thị các nước láng giềng: Trung Quốc, Lào, Campuchia\\n   - Biển Đông và các đảo, quần đảo của Việt Nam\\n\\n6. Bản đồ nhỏ ở góc phải dưới:\\n   - Tổng quan vị trí Việt Nam trong khu vực Đông Nam Á\\n\\nBản đồ này cung cấp cái nhìn tổng quan về phân bố dân cư và hệ thống đô thị của Việt Nam, với các vùng có mật độ dân số cao tập trung chủ yếu ở đồng bằng sông Hồng, đồng bằng sông Cửu Long và các thành phố lớn.', mimetype='text/plain', start_char_idx=0, end_char_idx=1336, metadata_seperator='\\n', text_template='{metadata_str}\\n\\n{content}'), score=0.4116793307633751),\n",
       " NodeWithScore(node=TextNode(id_='179e6dc7-040f-4ba7-93f4-b96ed479623c', embedding=None, metadata={'grade': 'grade_12', 'book_type': 'ket_noi_tri_thuc', 'book_subject': 'dia_ly', 'page_number': 35, 'file_path': '/Users/user/Desktop/Python/rag-book-prod/data/pages/grade_12_ket_noi_tri_thuc_dia_ly/grade_12_ket_noi_tri_thuc_dia_ly_page_35.md', 'file_name': 'grade_12_ket_noi_tri_thuc_dia_ly_page_35.md'}, excluded_embed_metadata_keys=['file_name', 'file_type', 'file_size', 'creation_date', 'last_modified_date', 'last_accessed_date'], excluded_llm_metadata_keys=['file_name', 'file_type', 'file_size', 'creation_date', 'last_modified_date', 'last_accessed_date'], relationships={<NodeRelationship.SOURCE: '1'>: RelatedNodeInfo(node_id='ac3fb410-9bea-4f15-9428-d5a7e941a573', node_type='4', metadata={'grade': 'grade_12', 'book_type': 'ket_noi_tri_thuc', 'book_subject': 'dia_ly', 'page_number': 35, 'file_path': '/Users/user/Desktop/Python/rag-book-prod/data/pages/grade_12_ket_noi_tri_thuc_dia_ly/grade_12_ket_noi_tri_thuc_dia_ly_page_35.md', 'file_name': 'grade_12_ket_noi_tri_thuc_dia_ly_page_35.md'}, hash='b87d821dd83d46351a236b2eafdacb8f93edb66e4de18b5bc2341501452173cb'), <NodeRelationship.NEXT: '3'>: RelatedNodeInfo(node_id='ef2c306e-8a54-455f-97ac-2a88f2415354', node_type='1', metadata={}, hash='2fe1b47324693aec7e15c28f038330880ff0ee145969f90329d34fde919fa966')}, metadata_template='{key}: {value}', metadata_separator='\\n', text='Tuy nhiên, hiện nay nước ta có tình trạng mất cân bằng giới tính khi sinh. Trong số trẻ được sinh ra năm 2021, cứ 100 bé gái, tương ứng bình quân có 112 bé trai.\\n\\n- Cơ cấu dân số theo tuổi\\n\\nDo mức sinh giảm, tuổi thọ tăng nên cơ cấu dân số theo tuổi của nước ta biến đổi nhanh theo hướng giảm tỉ lệ nhóm trẻ em, tăng tỉ lệ nhóm cao tuổi. Việt Nam đang có cơ cấu dân số vàng nhưng cũng đã bước vào thời kì già hoá dân số.\\n\\n[Hình 6.2 mô tả tháp dân số Việt Nam năm 1979 và năm 2021. Đây là hai biểu đồ hình tháp so sánh cơ cấu dân số theo độ tuổi và giới tính giữa hai năm. Biểu đồ chia thành 3 nhóm tuổi: dưới 15 tuổi (màu xanh lá), từ 15 đến 64 tuổi (màu vàng), và từ 65 tuổi trở lên (màu hồng). Biểu đồ cho thấy sự thay đổi rõ rệt trong cơ cấu dân số, với tỉ lệ người già tăng lên và tỉ lệ trẻ em giảm xuống từ năm 1979 đến 2021.]\\n\\nHình 6.2. Tháp dân số Việt Nam năm 1979 và năm 2021\\n(Nguồn: Tổng cục Thống kê)\\n\\n- Cơ cấu dân số theo dân tộc\\n\\nNước ta có 54 dân tộc anh em, trong đó dân tộc Kinh chiếm khoảng 85% tổng số dân, các dân tộc thiểu số chiếm gần 15%. Các dân tộc sinh sống đan xen nhau khá phổ biến trên các vùng miền của Tổ quốc. Các dân tộc Việt Nam có truyền thống đoàn kết, cùng nhau bảo vệ và xây dựng đất nước.\\n\\n- Cơ cấu dân số theo trình độ học vấn\\n\\nTrình độ học vấn của người dân Việt Nam được nâng cao dần. Năm 2021, tỉ lệ dân số từ 15 tuổi trở lên biết chữ đạt 95,7%. Số năm đi học trung bình của dân số từ 25 tuổi trở lên là 9,1 năm. Tuy nhiên, trình độ học vấn có sự khác biệt đáng kể giữa thành thị với nông thôn và giữa các vùng.\\n\\nDựa vào thông tin mục 2, hãy trình bày cơ cấu dân số của nước ta.\\n\\n3. Phân bố dân cư\\n\\nNăm 2021, mật độ dân số nước ta là 297 người/km², cao gấp 5 lần mức trung bình thế giới và có sự chênh lệch giữa các vùng.', mimetype='text/plain', start_char_idx=0, end_char_idx=1763, metadata_seperator='\\n', text_template='{metadata_str}\\n\\n{content}'), score=0.41014978066535124)]"
      ]
     },
     "execution_count": 12,
     "metadata": {},
     "output_type": "execute_result"
    }
   ],
   "source": [
    "# Extract source nodes from the response\n",
    "# The source nodes are in the tool output of the RAG tool call\n",
    "source_nodes = None\n",
    "for tool_call in response.tool_calls:\n",
    "    if tool_call.tool_name == \"rag_book_search_tool\":\n",
    "        source_nodes = tool_call.tool_output.raw_output.source_nodes\n",
    "        break\n",
    "\n",
    "print(f\"Found {len(source_nodes)} source nodes:\")\n",
    "for i, node in enumerate(source_nodes):\n",
    "    print(f\"\\nNode {i + 1}:\")\n",
    "    print(f\"Score: {node.score:.4f}\")\n",
    "    print(f\"File: {node.node.metadata['file_name']}\")\n",
    "    print(f\"Content preview: {node.node.text[:200]}...\")\n",
    "\n",
    "source_nodes"
   ]
  },
  {
   "cell_type": "code",
   "execution_count": 8,
   "metadata": {},
   "outputs": [
    {
     "name": "stdout",
     "output_type": "stream",
     "text": [
      "Mình sẽ hướng dẫn bạn cách giải phương trình bậc hai một cách chi tiết, dễ hiểu nhé!\n",
      "\n",
      "Phương trình bậc hai có dạng tổng quát:\n",
      "ax² + bx + c = 0, với a ≠ 0\n",
      "\n",
      "Các bước giải:\n",
      "\n",
      "Bước 1: Tính biệt thức Δ (delta)\n",
      "Δ = b² - 4ac\n",
      "\n",
      "Bước 2: Xét các trường hợp dựa vào giá trị của Δ\n",
      "\n",
      "- Nếu Δ > 0: Phương trình có 2 nghiệm phân biệt\n",
      "  x₁ = (-b + √Δ) / (2a)\n",
      "  x₂ = (-b - √Δ) / (2a)\n",
      "\n",
      "- Nếu Δ = 0: Phương trình có nghiệm kép\n",
      "  x = -b / (2a)\n",
      "\n",
      "- Nếu Δ < 0: Phương trình vô nghiệm (không có nghiệm thực)\n",
      "\n",
      "Bước 3: Kết luận nghiệm\n",
      "\n",
      "Ví dụ minh họa:\n",
      "Giải phương trình: 2x² - 4x + 2 = 0\n",
      "\n",
      "- a = 2, b = -4, c = 2\n",
      "- Δ = (-4)² - 4×2×2 = 16 - 16 = 0\n",
      "- Δ = 0 ⇒ phương trình có nghiệm kép:\n",
      "  x = -(-4) / (2×2) = 4/4 = 1\n",
      "\n",
      "Kết luận: Phương trình có nghiệm kép x = 1\n",
      "\n",
      "Tóm lại:\n",
      "- Tính Δ = b² - 4ac\n",
      "- Δ > 0: 2 nghiệm phân biệt\n",
      "- Δ = 0: 1 nghiệm kép\n",
      "- Δ < 0: vô nghiệm\n",
      "\n",
      "Nếu cần ví dụ khác hoặc có bài cụ thể, bạn gửi mình nhé!\n"
     ]
    }
   ],
   "source": [
    "print(response)"
   ]
  },
  {
   "cell_type": "code",
   "execution_count": null,
   "metadata": {},
   "outputs": [],
   "source": []
  }
 ],
 "metadata": {
  "kernelspec": {
   "display_name": ".venv",
   "language": "python",
   "name": "python3"
  },
  "language_info": {
   "codemirror_mode": {
    "name": "ipython",
    "version": 3
   },
   "file_extension": ".py",
   "mimetype": "text/x-python",
   "name": "python",
   "nbconvert_exporter": "python",
   "pygments_lexer": "ipython3",
   "version": "3.13.3"
  }
 },
 "nbformat": 4,
 "nbformat_minor": 2
}
