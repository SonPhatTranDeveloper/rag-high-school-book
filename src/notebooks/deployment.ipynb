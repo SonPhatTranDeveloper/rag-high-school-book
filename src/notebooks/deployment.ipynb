{
 "cells": [
  {
   "cell_type": "code",
   "execution_count": 24,
   "metadata": {},
   "outputs": [],
   "source": [
    "from llama_deploy import ControlPlaneConfig, LlamaDeployClient\n",
    "\n",
    "# client talks to the control plane\n",
    "client = LlamaDeployClient(ControlPlaneConfig())\n",
    "session = client.get_or_create_session(\"123456\")\n",
    "task_id = session.run_nowait(\"rag_agent\", user_msg=\"Bác Hồ tên thật là gì?\")"
   ]
  },
  {
   "cell_type": "code",
   "execution_count": 32,
   "metadata": {},
   "outputs": [
    {
     "data": {
      "text/plain": [
       "'Dựa vào tài liệu, Bác Hồ tên thật là Nguyễn Sinh Cung. Khi trưởng thành, Người lấy tên là Nguyễn Tất Thành và còn sử dụng nhiều tên gọi khác như Văn Ba, Nguyễn Ái Quốc trong quá trình hoạt động cách mạng.\\n\\nKết luận: Tên thật của Bác Hồ là Nguyễn Sinh Cung.'"
      ]
     },
     "execution_count": 32,
     "metadata": {},
     "output_type": "execute_result"
    }
   ],
   "source": [
    "session.get_task_result(task_id).result"
   ]
  },
  {
   "cell_type": "code",
   "execution_count": null,
   "metadata": {},
   "outputs": [],
   "source": []
  }
 ],
 "metadata": {
  "kernelspec": {
   "display_name": ".venv",
   "language": "python",
   "name": "python3"
  },
  "language_info": {
   "codemirror_mode": {
    "name": "ipython",
    "version": 3
   },
   "file_extension": ".py",
   "mimetype": "text/x-python",
   "name": "python",
   "nbconvert_exporter": "python",
   "pygments_lexer": "ipython3",
   "version": "3.13.3"
  }
 },
 "nbformat": 4,
 "nbformat_minor": 2
}
